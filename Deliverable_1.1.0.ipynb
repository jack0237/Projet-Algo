{
 "cells": [
  {
   "cell_type": "markdown",
   "metadata": {},
   "source": [
    "CesiCDP Project - Deliverable 1\n",
    "===\n",
    "\n",
    "### I. Introduction\n",
    "CesiCDP has been tasked with creating an innovative solution in response to ADEME's call for promoting new mobility solutions. This project aims to optimize delivery routes across road networks, minimizing travel times while addressing real-world challenges such as varying traffic conditions and fluctuating delivery demands. The problem is formulated as a Vehicle Routing Problem (VRP), a key challenge in logistics and transportation optimization.\n",
    "\n",
    "The VRP can be viewed as an extension of the classic Traveling Salesman Problem (TSP), both of which are NP-complete. In this document, we will demonstrate that the VRP is NP-hard, reinforcing its computational complexity. By formally modeling the problem, analyzing its complexity, and exploring its relationship with the TSP, we aim to lay a solid theoretical foundation. This groundwork will support the development of efficient algorithmic solutions for determining optimal delivery routes, factoring in real-world constraints like traffic variations and demand fluctuations at delivery points."
   ]
  },
  {
   "cell_type": "markdown",
   "metadata": {
    "vscode": {
     "languageId": "plaintext"
    }
   },
   "source": [
    "Definition of the key words:\n",
    "===\n",
    "- <b>Vehicle Routing Problem (VRP):</b>The VRP is a combinatorial optimization problem that involves determining the most efficient routes for a fleet of vehicles to deliver goods or services to a set of customers\n",
    "- <b>NP (Nondeterministic Polynomial time):</b>\n",
    "- <b>Data Structure:</b>A data structure is a way of organizing and storing data in a computer so that it can be accessed and modified efficiently.\n",
    "- <b>Traveling Salesman Problem (TSP):</b>The Traveling Salesman Problem (TSP) is a well-known combinatorial optimization problem where the goal is to find the shortest possible route that visits a set of cities (or locations) exactly once and returns to the starting city\n",
    "- <b></b>"
   ]
  },
  {
   "cell_type": "markdown",
   "metadata": {},
   "source": [
    "### 1. Data representation\n",
    "\n",
    "For the purpose of our project, we have decided to represent our map information in the form of a dictionary, these representation has a less spacial complexity compare to a list representation\n",
    "When representing our data in a dictionary, Each node in the graph can represent a delivery point and each edge can represent the path between two points with the cost (distance or time). The following dictionary is an example representation a representation of a map"
   ]
  },
  {
   "cell_type": "markdown",
   "metadata": {},
   "source": [
    "```python\n",
    "graph = {\n",
    "    'A': {'B': 10, 'C': 15},\n",
    "    'B': {'A': 10, 'D': 20},\n",
    "    'C': {'A': 15, 'D': 30},\n",
    "    'D': {'B': 20, 'C': 30}\n",
    "}\n"
   ]
  },
  {
   "cell_type": "markdown",
   "metadata": {},
   "source": [
    "* The first row and column contain the node labels (A, B, C, D).\n",
    "* The values in the matrix represent the edge weights between the nodes."
   ]
  },
  {
   "cell_type": "markdown",
   "metadata": {},
   "source": [
    "Representation of the graph via an adjacency matrix\n",
    "\n",
    "$$\n",
    "\\begin{pmatrix}\n",
    "  & A  & B  & C  & D \\\\\n",
    "A & 0  & 10 & 15 & 0  \\\\\n",
    "B & 10 & 0  & 0  & 20 \\\\\n",
    "C & 15 & 0  & 0  & 30 \\\\\n",
    "D & 0  & 20 & 30 & 0\n",
    "\\end{pmatrix}\n",
    "$$\n"
   ]
  },
  {
   "cell_type": "markdown",
   "metadata": {},
   "source": [
    "### Problem to be solved\n",
    "\n",
    "The primary goal of this project is to optimize the routing of goods across a road network to minimize travel time. This optimization problem is formulated as a Vehicle Routing Problem (VRP), incorporating additional constraints to reflect real-world challenges such as varying traffic conditions and delivery point demands.\n",
    "\n",
    "<b> Why Use VRP Instead of TSP? </b>\n",
    "\n",
    "While the Traveling Salesman Problem (TSP) is a related optimization problem, the VRP is a more suitable framework for this project due to its ability to handle:\n",
    "\n",
    "- Multiple Vehicles: VRP allows for the assignment of multiple vehicles to service different delivery points, reflecting the logistical realities of many transportation scenarios.\n",
    "- Capacity Constraints: VRP can incorporate constraints on vehicle capacities, ensuring that routes are planned to accommodate the volume of goods being transported.\n",
    "- Individual Vehicle Routes: VRP enables the optimization of routes for each vehicle, potentially resulting in more efficient and cost-effective transportation plans.\n",
    "\n",
    "<u>Computational Complexity:</u>\n",
    "The VRP is classified as an NP-hard problem, meaning that there is no known polynomial-time algorithm capable of finding optimal solutions for all instances. This computational complexity arises from the combinatorial nature of the problem, as the number of possible routes grows exponentially with the number of delivery points.\n",
    "\n",
    "<u>Relationship to TSP:</u>\n",
    "While certain simplified instances of the VRP can be reduced to the TSP (e.g., when there is only one vehicle or when constraints are relaxed), the general VRP problem is more complex due to its additional features. Therefore, direct reduction to TSP is not generally feasible."
   ]
  },
  {
   "cell_type": "markdown",
   "metadata": {},
   "source": [
    "\n",
    "### 2. Variables, Constraints and Objective function"
   ]
  },
  {
   "cell_type": "markdown",
   "metadata": {},
   "source": [
    "# Definition of our constraints\n",
    "\n",
    "- As constraints of our code, we have choose the collection points that each trucks must pass through while traveling on the map.\n",
    "- So here we have to chose the path in our graph whish can be taken to have the minimum travelling time\n",
    "- lets take a random matrice which will define our graph or map\n",
    "\n",
    "graph = {\n",
    "    \n",
    "        'A': {'B': 10, 'C': 15, 'D': 20},\n",
    "    \n",
    "        'B': {'A': 10, 'C': 25, 'D': 30},\n",
    "    \n",
    "        'C': {'A': 15, 'B': 25, 'D': 35},\n",
    "    \n",
    "        'D': {'A': 20, 'B': 30, 'C': 35}\n",
    "} \n",
    "\n",
    "- To represent our graph, we have used a dictionary with {A, B, C, D} being our vertices and the values nad the values between each vectices represents the weight of the vertice ( here we can consider the weight of the vertice to be the traveling time miving from one city to another city or the distance from one city to another city)"
   ]
  },
  {
   "cell_type": "markdown",
   "metadata": {
    "vscode": {
     "languageId": "latex"
    }
   },
   "source": [
    "## Decision Variables\n",
    "\n",
    "We need to define decision variables that will model the routing, allocation of items to trucks, and timing to account for the collection points. Here's how we can set up the decision variables:\n",
    "1. Binary Decision Variables for Routing:\n",
    "   * let X<sub>ijk</sub> be a binary decision variable where:\n",
    "      * x <sub>ijk</sub> = 1 if truck <i>k</i> travels directly from city <i>i</i> to city <i>j</i>\n",
    "      * x <sub>ijk</sub> = 0 otherwise\n",
    "    * Here <i>i</i> and <i>j</i> represents locations (e.g., depots, collection points, delivery points).\n",
    "2. Binary Decision Variables for Item-Collection Points Allocation:\n",
    "   * let y<sub>imk</sub> be a binary decision variable where:\n",
    "      * y <sub>imk</sub> = 1 if truck <i>k</i> collects item <i>m</i> at city <i>i</i>\n",
    "      * y <sub>imk</sub> = 0 otherwise\n",
    "    * Each item <i>m</i> has a specific collection point <i>i</i>, and this constraint must be enforced.\n",
    "3. Binary Decision Variables for Timing:\n",
    "   * let t<sub>ik</sub> be a continuous variable representing the time at which truck <i>k</i> arrives at location <i>i</i>\n",
    "   * This variable will help manage constraints related to collection and delivery times.\n",
    "4. Binary Decision Variables for Truck Capacity:\n",
    "   * Let Z<i>k</i> represent the total load (weight or volume) carried by truck <i>k</i> at any given time, ensuring it does not exceed the truck’s capacity.\n",
    "\n",
    "## Objective Function\n",
    "\n",
    "Given that each item has a specific collection point and we want to optimize the time and cost (e.g., minimize total travel time or minimize the time when the last truck returns to the depot), we can define the objective function as follows:\n",
    "1. Minimizing Total Travel Time:\n",
    "   * The objective is to minimize the total travel time for all Trucks, considering that each items must be collected from its specific collection point.\n",
    "  \n",
    "$$\n",
    "\\text{Minimize }  \\sum_{k} \\sum_{i,j} t_{ij}*x_{ijk}\n",
    "$$\n",
    "\n",
    "   * Where:\n",
    "      - t<sub>ij</sub> is the travel time between location <i>i</i> and location <j,>j</j,\n",
    "      - x<sub>ijk</sub> indicates whether truck <i>k</i> travels from location <i>i</i> to location <j,>j</j.\n",
    "\n",
    "## Constraints\n",
    "1. Truck Capacity Constraint:\n",
    "   * The total load of the items carried by each truck <i>k</i> cannot exceed its capacity:\n",
    "$$\n",
    "\\sum_{m} \\text{load}(m) \\cdot y_{imk} \\leq \\text{capacity}(k), \\quad \\forall k.\n",
    "$$\n",
    "2. Time Window Constraint:\n",
    "   * Tuck <i>k</i> must arrive at location <i>i</i> within the specific time window: \n",
    "$$\n",
    "t_{i}^{\\text{open}} \\leq t_{ik} \\leq t_{i}^{\\text{close}}, \\quad \\forall i, k.\n",
    "$$\n",
    "\n",
    "   * if truck <i>k</i> arrives early, it must wait until the time windows opens:\n",
    "  \n",
    "$$\n",
    "   t_{ik} \\geq  t_{i}^{\\text{open}}.\n",
    "$$\n",
    "\n",
    "3. Each item <i>m</i> must be collected at its specific collection point <i>i</i>. This can be enforced by:\n",
    "\n",
    "$$\n",
    "y_{imk} = 1 \\quad \\text{if item } m \\text{ is collected from collection point } i, \\quad \\forall m, i, k.\n",
    "$$\n",
    "\n",
    "\n",
    "4. Flow Conservation Constraint:\n",
    "   * For each truck <i>k</i>, the number of cities it enters must equal the number of cities it exits (excluding the depot):\n",
    "\n",
    "$$\n",
    "\\sum_{i} x_{ijk} = \\sum_{i} x_{jik}, \\quad \\forall j, k.\n",
    "$$\n",
    "\n",
    "\n",
    "5. Truck Assignment Constraint:\n",
    "   * Each truck <i>k</i> must be assigned a route, ensuring that each city is visited exactly once by one truck:\n",
    "\n",
    "$$\n",
    "\\sum_{k} \\sum_{j} x_{ijk} = 1, \\quad \\forall i.\n",
    "$$\n",
    "\n",
    "\n",
    "6. Return to Depot Constraint:\n",
    "   * Each truck must start and end at the depot, which can be represented as:\n",
    "\n",
    "\n",
    "$$\n",
    "x_{\\text{depot}, j, k} = x_{j, \\text{depot}, k}, \\quad \\forall j, k.\n",
    "$$\n",
    "\n",
    "\n",
    "\n",
    "\n"
   ]
  },
  {
   "cell_type": "markdown",
   "metadata": {},
   "source": [
    "### References to proof that VRP is in NP (Np-hard):\n",
    "For this part, we have made many researches and finally fell on google scholar where we've seen a pdf file resuming the proof of VRP been in np-hard, in the following lines we will see some extras of these report with references attached to it, the documentation resumes VRP variations, the exact method used in VRP, Heuristic approaches, meta-heuristics and Hybrid methods.\n",
    "this article was published by \"Suresh Nanda Kumar1, Ramasamy Panneerselvam2\" the Education Department of CII Institute of Logistics, Chennai, India2Department of Management Studies, Pondicherry University, Pondicherry, this article was revised  in January 18, 2012; and accepted in March 4, 2012;\n",
    "\n",
    "In that article it says\n",
    "\n",
    "\"The Vehicle Routing Problem (VRP) is used to design an optimal route for a fleet of vehicles to service a set of customers, given a set of constraints. The VRP is used in supply chain management in the physical delivery of goods and services. There are several variants to the VRP. These are formulated based on the nature of the transported goods, the quality of service required and the characteristics of the customers and the vehicles. The VRP is of the NP-hard type.\"\n",
    "\n",
    "\n",
    "IndiaEmail: suresh.nandakumar@cii.in\n",
    "panneer_dms@yahoo.co.inReceived"
   ]
  },
  {
   "cell_type": "markdown",
   "metadata": {},
   "source": [
    "II. Conclusion\n",
    "\n",
    "In this first deliverable, we have established a solid theoretical foundation for addressing the Vehicle Routing Problem (VRP) as part of our response to ADEME's call for new mobility solutions. We modeled the VRP with the goal of optimizing delivery routes to minimize travel times while accounting for real-world challenges such as traffic variations and fluctuating delivery demands. Additionally, we demonstrated that the VRP is an NP-hard problem, underscoring its computational complexity and its relationship to the NP-complete Traveling Salesman Problem (TSP).\n",
    "\n",
    "This document serves as the initial step in our action plan. By laying the groundwork and analyzing the complexity of the VRP, we have set the stage for the next phase of the project. In the subsequent deliverable, we will shift our focus to developing and implementing algorithmic solutions designed to efficiently solve the VRP while adapting to dynamic, real-world conditions. These solutions will aim to optimize delivery routes and enhance mobility in the transportation sector."
   ]
  }
 ],
 "metadata": {
  "kernelspec": {
   "display_name": "env",
   "language": "python",
   "name": "python3"
  },
  "language_info": {
   "codemirror_mode": {
    "name": "ipython",
    "version": 3
   },
   "file_extension": ".py",
   "mimetype": "text/x-python",
   "name": "python",
   "nbconvert_exporter": "python",
   "pygments_lexer": "ipython3",
   "version": "3.12.6"
  }
 },
 "nbformat": 4,
 "nbformat_minor": 2
}
