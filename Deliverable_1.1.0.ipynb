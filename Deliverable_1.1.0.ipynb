{
 "cells": [
  {
   "cell_type": "markdown",
   "metadata": {},
   "source": [
    "CesiCDP Project - Deliverable 1\n",
    "===\n",
    "\n",
    "### 1. Introduction\n",
    "\n",
    "CesiCDP has been tasked with developing an innovative solution in response to ADEME's call for promoting new mobility solutions. The focus of this project is on optimizing delivery routes across a road network, with the goal of minimizing travel times while considering real-world challenges such as varying traffic conditions. This problem is framed within the context of the Vehicle Routing Problem (VRP), which is a central issue in logistics and transportation optimization.\n",
    "\n",
    "VRP can be seen as an extension of the Traveling Salesman Problem (TSP), a classic optimization problem. The purpose of this deliverable is to formally model the VRP, analyze its complexity, and explore its relationship with the TSP, a problem known to be NP-complete. By understanding the underlying theoretical properties of the VRP, we can lay the groundwork for developing effective algorithmic solutions."
   ]
  },
  {
   "cell_type": "markdown",
   "metadata": {},
   "source": [
    "### 2. Data representation\n",
    "\n",
    "For the purpose of our project, we have decided to represent our map information in the form of a dictionary, these representation has a less spacial complexity compare to a list representation\n",
    "When representing our data in a dictionary, Each node in the graph can represent a delivery point and each edge can represent the path between two points with the cost (distance or time). The following dictionary is an example representation a representation of a map"
   ]
  },
  {
   "cell_type": "markdown",
   "metadata": {},
   "source": [
    "```python\n",
    "graph = {\n",
    "    'A': {'B': 10, 'C': 15},\n",
    "    'B': {'A': 10, 'D': 20},\n",
    "    'C': {'A': 15, 'D': 30},\n",
    "    'D': {'B': 20, 'C': 30}\n",
    "}\n"
   ]
  },
  {
   "cell_type": "markdown",
   "metadata": {},
   "source": [
    "* The first row and column contain the node labels (A, B, C, D).\n",
    "* The values in the matrix represent the edge weights between the nodes."
   ]
  },
  {
   "cell_type": "markdown",
   "metadata": {},
   "source": [
    "Representation of the graph via an adjacency matrix\n",
    "\n",
    "$$\n",
    "\\begin{pmatrix}\n",
    "  & A  & B  & C  & D \\\\\n",
    "A & 0  & 10 & 15 & 0  \\\\\n",
    "B & 10 & 0  & 0  & 20 \\\\\n",
    "C & 15 & 0  & 0  & 30 \\\\\n",
    "D & 0  & 20 & 30 & 0\n",
    "\\end{pmatrix}\n",
    "$$\n"
   ]
  },
  {
   "cell_type": "markdown",
   "metadata": {},
   "source": [
    "### Problem to be solved\n",
    "\n",
    "The goal of this project is to find the optimal routing for delivering goods across a road network while minimizing travel times. The optimization problem is formulated as a Vehicle Routing Problem (VRP) with additional constraints to account for real-world challenges such as varying traffic conditions and delivery points with varying demands.\n",
    "\n",
    "Why Use VRP Instead of TSP?\n",
    "\n",
    "In the context of the problem you're tackling (which likely involves multiple delivery points, vehicles, and capacity constraints), we use Vehicle Routing Problem (VRP) instead of Traveling Salesman Problem (TSP) because VRP generalizes TSP. Here’s why:\n",
    "\n",
    "1. Multiple Vehicles: In VRP, multiple vehicles are used to service several locations, which is more realistic for logistics, delivery, and transportation problems. TSP only considers a single vehicle.\n",
    "\n",
    "2. Capacity Constraints: VRP includes the concept of vehicle capacity. Vehicles have a limit on how much they can carry, which needs to be considered during route planning. TSP does not account for any such limitations.\n",
    "\n",
    "3. Different Routes: In VRP, each vehicle has its own route to minimize costs (e.g., distance, time) while covering all locations. In TSP, there is only one route (cycle) for a single vehicle."
   ]
  },
  {
   "cell_type": "markdown",
   "metadata": {},
   "source": [
    "\n",
    "### 3. Variables, Constraints and Objective function"
   ]
  },
  {
   "cell_type": "markdown",
   "metadata": {},
   "source": [
    "# Definition of our constraints\n",
    "\n",
    "- As constraints of our code, we have choose the collection points that each trucks must pass through while traveling on the map.\n",
    "- So here we have to chose the path in our graph whish can be taken to have the minimum travelling time\n",
    "- lets take a random matrice which will define our graph or map\n",
    "\n",
    "graph = {\n",
    "    \n",
    "        'A': {'B': 10, 'C': 15, 'D': 20},\n",
    "    \n",
    "        'B': {'A': 10, 'C': 25, 'D': 30},\n",
    "    \n",
    "        'C': {'A': 15, 'B': 25, 'D': 35},\n",
    "    \n",
    "        'D': {'A': 20, 'B': 30, 'C': 35}\n",
    "} \n",
    "\n",
    "- To represent our graph, we have used a dictionary with {A, B, C, D} being our vertices and the values nad the values between each vectices represents the weight of the vertice ( here we can consider the weight of the vertice to be the traveling time miving from one city to another city or the distance from one city to another city)"
   ]
  },
  {
   "cell_type": "markdown",
   "metadata": {
    "vscode": {
     "languageId": "latex"
    }
   },
   "source": [
    "## Decision Variables\n",
    "\n",
    "We need to define decision variables that will model the routing, allocation of items to trucks, and timing to account for the collection points. Here's how we can set up the decision variables:\n",
    "1. Binary Decision Variables for Routing:\n",
    "   * let X<sub>ijk</sub> be a binary decision variable where:\n",
    "      * x <sub>ijk</sub> = 1 if truck <i>k</i> travels directly from city <i>i</i> to city <i>j</i>\n",
    "      * x <sub>ijk</sub> = 0 otherwise\n",
    "    * Here <i>i</i> and <i>j</i> represents locations (e.g., depots, collection points, delivery points).\n",
    "2. Binary Decision Variables for Item-Collection Points Allocation:\n",
    "   * let y<sub>imk</sub> be a binary decision variable where:\n",
    "      * y <sub>imk</sub> = 1 if truck <i>k</i> collects item <i>m</i> at city <i>i</i>\n",
    "      * y <sub>imk</sub> = 0 otherwise\n",
    "    * Each item <i>m</i> has a specific collection point <i>i</i>, and this constraint must be enforced.\n",
    "3. Binary Decision Variables for Timing:\n",
    "   * let t<sub>ik</sub> be a continuous variable representing the time at which truck <i>k</i> arrives at location <i>i</i>\n",
    "   * This variable will help manage constraints related to collection and delivery times.\n",
    "4. Binary Decision Variables for Truck Capacity:\n",
    "   * Let Z<i>k</i> represent the total load (weight or volume) carried by truck <i>k</i> at any given time, ensuring it does not exceed the truck’s capacity.\n",
    "\n",
    "## Objective Function\n",
    "\n",
    "Given that each item has a specific collection point and we want to optimize the time and cost (e.g., minimize total travel time or minimize the time when the last truck returns to the depot), we can define the objective function as follows:\n",
    "1. Minimizing Total Travel Time:\n",
    "   * The objective is to minimize the total travel time for all Trucks, considering that each items must be collected from its specific collection point.\n",
    "  \n",
    "$$\n",
    "\\text{Minimize }  \\sum_{k} \\sum_{i,j} t_{ij}*x_{ijk}\n",
    "$$\n",
    "\n",
    "   * Where:\n",
    "      - t<sub>ij</sub> is the travel time between location <i>i</i> and location <j,>j</j,\n",
    "      - x<sub>ijk</sub> indicates whether truck <i>k</i> travels from location <i>i</i> to location <j,>j</j.\n",
    "\n",
    "## Constraints\n",
    "1. Truck Capacity Constraint:\n",
    "   * The total load of the items carried by each truck <i>k</i> cannot exceed its capacity:\n",
    "$$\n",
    "\\sum_{m} \\text{load}(m) \\cdot y_{imk} \\leq \\text{capacity}(k), \\quad \\forall k.\n",
    "$$\n",
    "2. Time Window Constraint:\n",
    "   * Tuck <i>k</i> must arrive at location <i>i</i> within the specific time window: \n",
    "$$\n",
    "t_{i}^{\\text{open}} \\leq t_{ik} \\leq t_{i}^{\\text{close}}, \\quad \\forall i, k.\n",
    "$$\n",
    "\n",
    "   * if truck <i>k</i> arrives early, it must wait until the time windows opens:\n",
    "  \n",
    "$$\n",
    "   t_{ik} \\geq  t_{i}^{\\text{open}}.\n",
    "$$\n",
    "\n",
    "3. Each item <i>m</i> must be collected at its specific collection point <i>i</i>. This can be enforced by:\n",
    "\n",
    "$$\n",
    "y_{imk} = 1 \\quad \\text{if item } m \\text{ is collected from collection point } i, \\quad \\forall m, i, k.\n",
    "$$\n",
    "\n",
    "\n",
    "4. Flow Conservation Constraint:\n",
    "   * For each truck <i>k</i>, the number of cities it enters must equal the number of cities it exits (excluding the depot):\n",
    "\n",
    "$$\n",
    "\\sum_{i} x_{ijk} = \\sum_{i} x_{jik}, \\quad \\forall j, k.\n",
    "$$\n",
    "\n",
    "\n",
    "5. Truck Assignment Constraint:\n",
    "   * Each truck <i>k</i> must be assigned a route, ensuring that each city is visited exactly once by one truck:\n",
    "\n",
    "$$\n",
    "\\sum_{k} \\sum_{j} x_{ijk} = 1, \\quad \\forall i.\n",
    "$$\n",
    "\n",
    "\n",
    "6. Return to Depot Constraint:\n",
    "   * Each truck must start and end at the depot, which can be represented as:\n",
    "\n",
    "\n",
    "$$\n",
    "x_{\\text{depot}, j, k} = x_{j, \\text{depot}, k}, \\quad \\forall j, k.\n",
    "$$\n",
    "\n",
    "\n",
    "\n",
    "\n"
   ]
  },
  {
   "cell_type": "markdown",
   "metadata": {},
   "source": [
    "### 4. Heuristic Modeling"
   ]
  },
  {
   "cell_type": "markdown",
   "metadata": {},
   "source": []
  }
 ],
 "metadata": {
  "kernelspec": {
   "display_name": "env",
   "language": "python",
   "name": "python3"
  },
  "language_info": {
   "codemirror_mode": {
    "name": "ipython",
    "version": 3
   },
   "file_extension": ".py",
   "mimetype": "text/x-python",
   "name": "python",
   "nbconvert_exporter": "python",
   "pygments_lexer": "ipython3",
   "version": "3.12.6"
  }
 },
 "nbformat": 4,
 "nbformat_minor": 2
}
